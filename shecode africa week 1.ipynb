{
 "cells": [
  {
   "cell_type": "code",
   "execution_count": null,
   "metadata": {},
   "outputs": [],
   "source": []
  },
  {
   "cell_type": "code",
   "execution_count": 1,
   "metadata": {},
   "outputs": [
    {
     "name": "stdout",
     "output_type": "stream",
     "text": [
      "You need to guess lower. Try again\n",
      "You guessed the number correctly!\n"
     ]
    }
   ],
   "source": [
    "import random\n",
    "\n",
    "number = random.randrange(1,20)\n",
    "guess =int(input(\"Guess a number between 1 and 20: \"))\n",
    "\n",
    "while guess != number:\n",
    "    if guess < number:\n",
    "        print(\"You need to guess higher. Try again\")\n",
    "        guess =int(input(\"\\nGuess a number between 1 and 20: \"))\n",
    "    else :\n",
    "         print(\"You need to guess lower. Try again\")\n",
    "         guess = int(input(\"\\nGuess a number between 1 and 20: \"))\n",
    "print(\"You guessed the number correctly!\")                  \n"
   ]
  }
 ],
 "metadata": {
  "kernelspec": {
   "display_name": "Python 3.10.5 64-bit",
   "language": "python",
   "name": "python3"
  },
  "language_info": {
   "codemirror_mode": {
    "name": "ipython",
    "version": 3
   },
   "file_extension": ".py",
   "mimetype": "text/x-python",
   "name": "python",
   "nbconvert_exporter": "python",
   "pygments_lexer": "ipython3",
   "version": "3.10.5"
  },
  "orig_nbformat": 4,
  "vscode": {
   "interpreter": {
    "hash": "b9fbf77aaeb20991a12a10d7ff6ccebc97eaace87599dad0253f4c7349404ea7"
   }
  }
 },
 "nbformat": 4,
 "nbformat_minor": 2
}
