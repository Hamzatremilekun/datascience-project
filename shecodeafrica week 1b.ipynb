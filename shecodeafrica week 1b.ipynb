{
 "cells": [
  {
   "cell_type": "code",
   "execution_count": 3,
   "metadata": {},
   "outputs": [
    {
     "name": "stdout",
     "output_type": "stream",
     "text": [
      "Hello, welcome to password generator\n",
      "V u 8 d o p R { : 2\n"
     ]
    }
   ],
   "source": [
    "import random\n",
    "import string\n",
    " \n",
    "print(\"Hello, welcome to password generator\")\n",
    "\n",
    "length = int(input(\"\\n  enter the length of the password: \"))\n",
    "\n",
    "lowercase = string.ascii_lowercase\n",
    "uppercase = string.ascii_uppercase\n",
    "number = string.digits\n",
    "symbols = string.punctuation\n",
    "\n",
    "all = lowercase + uppercase + number +symbols\n",
    "\n",
    "temp = random.sample(all, length)\n",
    "\n",
    "password = \" \".join(temp)\n",
    "\n",
    "print(password)\n"
   ]
  }
 ],
 "metadata": {
  "kernelspec": {
   "display_name": "base",
   "language": "python",
   "name": "myenv"
  },
  "language_info": {
   "codemirror_mode": {
    "name": "ipython",
    "version": 3
   },
   "file_extension": ".py",
   "mimetype": "text/x-python",
   "name": "python",
   "nbconvert_exporter": "python",
   "pygments_lexer": "ipython3",
   "version": "3.9.12"
  },
  "orig_nbformat": 4
 },
 "nbformat": 4,
 "nbformat_minor": 2
}
