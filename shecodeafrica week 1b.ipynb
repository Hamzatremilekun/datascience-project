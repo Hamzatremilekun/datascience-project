{
 "cells": [
  {
   "cell_type": "code",
   "execution_count": 3,
   "metadata": {},
   "outputs": [
    {
     "ename": "TypeError",
     "evalue": "'<=' not supported between instances of 'int' and 'str'",
     "output_type": "error",
     "traceback": [
      "\u001b[1;31m---------------------------------------------------------------------------\u001b[0m",
      "\u001b[1;31mTypeError\u001b[0m                                 Traceback (most recent call last)",
      "\u001b[1;32mc:\\Users\\TITI ADEBOYE\\Desktop\\shecodeafrica week 1b.ipynb Cell 1\u001b[0m in \u001b[0;36m<cell line: 15>\u001b[1;34m()\u001b[0m\n\u001b[0;32m     <a href='vscode-notebook-cell:/c%3A/Users/TITI%20ADEBOYE/Desktop/shecodeafrica%20week%201b.ipynb#ch0000000?line=10'>11</a>\u001b[0m string \u001b[39m=\u001b[39m lowercase \u001b[39m+\u001b[39m uppercase \u001b[39m+\u001b[39m numbers \u001b[39m+\u001b[39m symbols\n\u001b[0;32m     <a href='vscode-notebook-cell:/c%3A/Users/TITI%20ADEBOYE/Desktop/shecodeafrica%20week%201b.ipynb#ch0000000?line=12'>13</a>\u001b[0m length \u001b[39m=\u001b[39m \u001b[39m\"\u001b[39m\u001b[39m6\u001b[39m\u001b[39m\"\u001b[39m \n\u001b[1;32m---> <a href='vscode-notebook-cell:/c%3A/Users/TITI%20ADEBOYE/Desktop/shecodeafrica%20week%201b.ipynb#ch0000000?line=14'>15</a>\u001b[0m password \u001b[39m=\u001b[39m \u001b[39m\"\u001b[39m\u001b[39m\"\u001b[39m\u001b[39m.\u001b[39mjoin(random\u001b[39m.\u001b[39;49msample(string,length)) \n\u001b[0;32m     <a href='vscode-notebook-cell:/c%3A/Users/TITI%20ADEBOYE/Desktop/shecodeafrica%20week%201b.ipynb#ch0000000?line=16'>17</a>\u001b[0m \u001b[39mprint\u001b[39m(\u001b[39m\"\u001b[39m\u001b[39mYour new password is: \u001b[39m\u001b[39m\"\u001b[39m \u001b[39m+\u001b[39m password)\n",
      "File \u001b[1;32mc:\\Users\\TITI ADEBOYE\\Documents\\Downloads\\anaconda\\envs\\(machine)\\lib\\random.py:481\u001b[0m, in \u001b[0;36mRandom.sample\u001b[1;34m(self, population, k, counts)\u001b[0m\n\u001b[0;32m    479\u001b[0m     \u001b[39mreturn\u001b[39;00m [population[bisect(cum_counts, s)] \u001b[39mfor\u001b[39;00m s \u001b[39min\u001b[39;00m selections]\n\u001b[0;32m    480\u001b[0m randbelow \u001b[39m=\u001b[39m \u001b[39mself\u001b[39m\u001b[39m.\u001b[39m_randbelow\n\u001b[1;32m--> 481\u001b[0m \u001b[39mif\u001b[39;00m \u001b[39mnot\u001b[39;00m \u001b[39m0\u001b[39m \u001b[39m<\u001b[39m\u001b[39m=\u001b[39m k \u001b[39m<\u001b[39m\u001b[39m=\u001b[39m n:\n\u001b[0;32m    482\u001b[0m     \u001b[39mraise\u001b[39;00m \u001b[39mValueError\u001b[39;00m(\u001b[39m\"\u001b[39m\u001b[39mSample larger than population or is negative\u001b[39m\u001b[39m\"\u001b[39m)\n\u001b[0;32m    483\u001b[0m result \u001b[39m=\u001b[39m [\u001b[39mNone\u001b[39;00m] \u001b[39m*\u001b[39m k\n",
      "\u001b[1;31mTypeError\u001b[0m: '<=' not supported between instances of 'int' and 'str'"
     ]
    }
   ],
   "source": [
    "import random\n",
    "\n",
    "lowercase = \"abcdefghijklmnopqrstuvwxyz\"\n",
    "\n",
    "uppercase = \"ABCDEFGHIJKLMNOPQRSTUVWXYZ\"\n",
    "\n",
    "numbers = \"0123456789\"\n",
    "\n",
    "symbols = \"@#$%^&*()\"\n",
    "\n",
    "string = lowercase + uppercase + numbers + symbols\n",
    "\n",
    "length = \"6\" \n",
    "\n",
    "password = \"\".join(random.sample(string,length)) \n",
    "\n",
    "print(\"Your new password is: \" + password)\n",
    "\n"
   ]
  }
 ],
 "metadata": {
  "kernelspec": {
   "display_name": "Python 3.10.4 ('(machine)')",
   "language": "python",
   "name": "python3"
  },
  "language_info": {
   "codemirror_mode": {
    "name": "ipython",
    "version": 3
   },
   "file_extension": ".py",
   "mimetype": "text/x-python",
   "name": "python",
   "nbconvert_exporter": "python",
   "pygments_lexer": "ipython3",
   "version": "3.10.4"
  },
  "orig_nbformat": 4,
  "vscode": {
   "interpreter": {
    "hash": "c94549d9b1eb956506eee1d896993bc35f8c624a6e0054adb7db720f49effd61"
   }
  }
 },
 "nbformat": 4,
 "nbformat_minor": 2
}
